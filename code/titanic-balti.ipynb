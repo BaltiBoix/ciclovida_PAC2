{
 "cells": [
  {
   "cell_type": "code",
   "execution_count": 3,
   "metadata": {},
   "outputs": [],
   "source": [
    "import numpy as np # linear algebra\n",
    "import pandas as pd # data processing, CSV file I/O (e.g. pd.read_csv)\n",
    "import os\n",
    "\n",
    "import seaborn as sns\n",
    "import matplotlib.pyplot as plt\n",
    "from scipy import stats\n",
    "from sklearn.model_selection import GridSearchCV\n",
    "from sklearn.ensemble import RandomForestClassifier\n",
    "from sklearn.svm import SVC"
   ]
  },
  {
   "cell_type": "code",
   "execution_count": 4,
   "metadata": {
    "_cell_guid": "79c7e3d0-c299-4dcb-8224-4455121ee9b0",
    "_uuid": "d629ff2d2480ee46fbb7e2d37f6b5fab8052498a"
   },
   "outputs": [
    {
     "data": {
      "text/html": [
       "<div>\n",
       "<style scoped>\n",
       "    .dataframe tbody tr th:only-of-type {\n",
       "        vertical-align: middle;\n",
       "    }\n",
       "\n",
       "    .dataframe tbody tr th {\n",
       "        vertical-align: top;\n",
       "    }\n",
       "\n",
       "    .dataframe thead th {\n",
       "        text-align: right;\n",
       "    }\n",
       "</style>\n",
       "<table border=\"1\" class=\"dataframe\">\n",
       "  <thead>\n",
       "    <tr style=\"text-align: right;\">\n",
       "      <th></th>\n",
       "      <th>PassengerId</th>\n",
       "      <th>Survived</th>\n",
       "      <th>Pclass</th>\n",
       "      <th>Age</th>\n",
       "      <th>SibSp</th>\n",
       "      <th>Parch</th>\n",
       "      <th>Fare</th>\n",
       "    </tr>\n",
       "  </thead>\n",
       "  <tbody>\n",
       "    <tr>\n",
       "      <th>count</th>\n",
       "      <td>891.000000</td>\n",
       "      <td>891.000000</td>\n",
       "      <td>891.000000</td>\n",
       "      <td>714.000000</td>\n",
       "      <td>891.000000</td>\n",
       "      <td>891.000000</td>\n",
       "      <td>891.000000</td>\n",
       "    </tr>\n",
       "    <tr>\n",
       "      <th>mean</th>\n",
       "      <td>446.000000</td>\n",
       "      <td>0.383838</td>\n",
       "      <td>2.308642</td>\n",
       "      <td>29.699118</td>\n",
       "      <td>0.523008</td>\n",
       "      <td>0.381594</td>\n",
       "      <td>32.204208</td>\n",
       "    </tr>\n",
       "    <tr>\n",
       "      <th>std</th>\n",
       "      <td>257.353842</td>\n",
       "      <td>0.486592</td>\n",
       "      <td>0.836071</td>\n",
       "      <td>14.526497</td>\n",
       "      <td>1.102743</td>\n",
       "      <td>0.806057</td>\n",
       "      <td>49.693429</td>\n",
       "    </tr>\n",
       "    <tr>\n",
       "      <th>min</th>\n",
       "      <td>1.000000</td>\n",
       "      <td>0.000000</td>\n",
       "      <td>1.000000</td>\n",
       "      <td>0.420000</td>\n",
       "      <td>0.000000</td>\n",
       "      <td>0.000000</td>\n",
       "      <td>0.000000</td>\n",
       "    </tr>\n",
       "    <tr>\n",
       "      <th>25%</th>\n",
       "      <td>223.500000</td>\n",
       "      <td>0.000000</td>\n",
       "      <td>2.000000</td>\n",
       "      <td>20.125000</td>\n",
       "      <td>0.000000</td>\n",
       "      <td>0.000000</td>\n",
       "      <td>7.910400</td>\n",
       "    </tr>\n",
       "    <tr>\n",
       "      <th>50%</th>\n",
       "      <td>446.000000</td>\n",
       "      <td>0.000000</td>\n",
       "      <td>3.000000</td>\n",
       "      <td>28.000000</td>\n",
       "      <td>0.000000</td>\n",
       "      <td>0.000000</td>\n",
       "      <td>14.454200</td>\n",
       "    </tr>\n",
       "    <tr>\n",
       "      <th>75%</th>\n",
       "      <td>668.500000</td>\n",
       "      <td>1.000000</td>\n",
       "      <td>3.000000</td>\n",
       "      <td>38.000000</td>\n",
       "      <td>1.000000</td>\n",
       "      <td>0.000000</td>\n",
       "      <td>31.000000</td>\n",
       "    </tr>\n",
       "    <tr>\n",
       "      <th>max</th>\n",
       "      <td>891.000000</td>\n",
       "      <td>1.000000</td>\n",
       "      <td>3.000000</td>\n",
       "      <td>80.000000</td>\n",
       "      <td>8.000000</td>\n",
       "      <td>6.000000</td>\n",
       "      <td>512.329200</td>\n",
       "    </tr>\n",
       "  </tbody>\n",
       "</table>\n",
       "</div>"
      ],
      "text/plain": [
       "       PassengerId    Survived      Pclass         Age       SibSp  \\\n",
       "count   891.000000  891.000000  891.000000  714.000000  891.000000   \n",
       "mean    446.000000    0.383838    2.308642   29.699118    0.523008   \n",
       "std     257.353842    0.486592    0.836071   14.526497    1.102743   \n",
       "min       1.000000    0.000000    1.000000    0.420000    0.000000   \n",
       "25%     223.500000    0.000000    2.000000   20.125000    0.000000   \n",
       "50%     446.000000    0.000000    3.000000   28.000000    0.000000   \n",
       "75%     668.500000    1.000000    3.000000   38.000000    1.000000   \n",
       "max     891.000000    1.000000    3.000000   80.000000    8.000000   \n",
       "\n",
       "            Parch        Fare  \n",
       "count  891.000000  891.000000  \n",
       "mean     0.381594   32.204208  \n",
       "std      0.806057   49.693429  \n",
       "min      0.000000    0.000000  \n",
       "25%      0.000000    7.910400  \n",
       "50%      0.000000   14.454200  \n",
       "75%      0.000000   31.000000  \n",
       "max      6.000000  512.329200  "
      ]
     },
     "metadata": {},
     "output_type": "display_data"
    },
    {
     "data": {
      "text/plain": [
       "Index(['PassengerId', 'Survived', 'Pclass', 'Name', 'Sex', 'Age', 'SibSp',\n",
       "       'Parch', 'Ticket', 'Fare', 'Cabin', 'Embarked'],\n",
       "      dtype='object')"
      ]
     },
     "metadata": {},
     "output_type": "display_data"
    }
   ],
   "source": [
    "df = pd.read_csv('train.csv')\n",
    "dft = pd.read_csv('test.csv')\n",
    "display(df.describe())\n",
    "display(df.columns)"
   ]
  },
  {
   "cell_type": "markdown",
   "metadata": {},
   "source": [
    "#df.loc[:,['PassengerId', 'SibSp']].groupby('SibSp').agg('count')\n",
    "#df.loc[df.isnull().Age,:].groupby('Parch').agg('count')\n",
    "#df.loc[(df.isnull().Age) & (df.Name.str.contains('\"')),:]\n",
    "\n",
    "#sum(df['noage'])+sum(df['baby'])+sum(df['children'])+sum(df['young'])+sum(df['middle'])+sum(df['old'])\n",
    "#df.loc[np.logical_not(df.isnull().Cabin),:]\n",
    "#df['ticketc'] = df.loc[df.Ticket.str.contains(pat='^[A-Z]'), 'Ticket'].str.split().str[0]                                #replace('.', '', regex=False)\n",
    "#df.loc[df.ticketc.str.contains(pat='S', na=False),['ticketc', 'Embarked']]\n",
    "#np.mean(df.Fare), np.median(df.Fare), stats.mode(df.Fare)\n",
    "#df['ticketc'] = df.loc[df.Ticket.str.contains(pat='^[A-Z]'), 'Ticket'].str.split().str[0]                                #replace('.', '', regex=False)\n",
    "#df.loc[df.Ticket.str.contains(pat='^[A-Z]'), 'Ticket'].str.split().str[1].str.strip().str[:2].unique()\n",
    "#dft['ticketc'] = dft.loc[dft.Ticket.str.contains(pat='^[A-Z]'), 'Ticket'].str.split().str[1].str.strip()\n",
    "#dft.loc[dft.isnull().ticketc, 'ticketc'] = dft.loc[dft.isnull().ticketc, 'Ticket']\n",
    "#display(dft.ticketc.str[0].unique())\n",
    "#display(df.ticketc.str[0].unique())\n",
    "#df.loc[df.Name.str.contains('Mrs') & df.isnull().Age, ['Name', 'Sex', 'Age', 'Survived']]\n",
    "#df.loc[df.Name.str.contains('Mrs') & (df.Age > 14), ['Name', 'Sex', 'Age', 'Parch', 'Survived']].Age.mean()\n",
    "#df.loc[df.Name.str.contains('Jonkheer'), :]\n",
    "#df.loc[np.logical_not(df.Name.str.extract('\\(([^\\)]+)').isnull()[0] & (df.tname != 'Mrs')), 'Name']\n",
    "#df.loc[df.Name.str.extract('\\(([^\\)]+)').isnull()[0], 'Name']\n",
    "df.loc[df.tname != 'Mrs', 'Name'].str.extract('\\(([^\\)]+)')[0].str.split().str[-1].unique()\n",
    "df.groupby('Pclass').agg({'Fare': [('quantiles', lambda x: list(np.percentile(x,[0,25,50,75,100],interpolation='nearest')))]})\n",
    "df.loc[df.Fare==0, ['Name', 'Pclass', 'Age', 'agec']]\n"
   ]
  },
  {
   "cell_type": "code",
   "execution_count": 5,
   "metadata": {},
   "outputs": [],
   "source": [
    "df.loc[df.isnull().Cabin, ['PassengerId', 'Cabin']] = 'No'\n",
    "df['cabinc'] = df.Cabin.str[0]\n",
    "df.loc[df.isnull().Embarked,'Embarked'] = 'U'\n",
    "df['agec'] = 'noage'\n",
    "df.loc[(df.Age <= 3), 'agec'] = 'baby'\n",
    "df.loc[(df.Age <= 14) & (df.Age > 3), 'agec'] = 'children'\n",
    "df.loc[df.Name.str.contains('Miss.*\"$') & df.isnull().Age, 'agec'] = 'children'\n",
    "df.loc[df.Name.str.contains('Mr.*\"$') & df.isnull().Age, 'agec'] = 'children'\n",
    "df.loc[df.Name.str.contains('Master') & df.isnull().Age, 'agec'] = 'children'\n",
    "df.loc[(df.Age <= 45) & (df.Age > 14), 'agec'] = 'young'\n",
    "df.loc[df.Name.str.contains('Miss') & (df.agec == 'noage'), 'agec'] = 'young'\n",
    "df.loc[(df.agec=='noage') & ((df.SibSp==1) & (df.Parch==0)), 'agec'] = 'young'\n",
    "df.loc[(df.Age <= 60) & (df.Age > 45), 'agec'] = 'middle'\n",
    "df.loc[df.Name.str.contains('Mrs') & (df.agec == 'noage'), 'agec'] = 'middle'\n",
    "df.loc[(df.Age > 60), 'agec'] = 'old'\n",
    "#df['ticketc'] = df.loc[df.Ticket.str.contains(pat='^[A-Z]'), 'Ticket'].str.split().str[1].str.strip()\n",
    "#df.loc[df.isnull().ticketc, 'ticketc'] = df.loc[df.isnull().ticketc, 'Ticket']\n",
    "#df.loc[df.Ticket.str.contains(pat='Ba'), 'Ticket'] = \"54\"\n",
    "#df.ticketc = df.ticketc.str[0]\n",
    "df['fname'] = df.Name.str.extract('^([^,]+)')[0].str.strip()\n",
    "df['tname'] = df.Name.str.extract(', ([^.]+)')[0].str.strip()\n",
    "df.loc[(df.Fare==0) & (df.Pclass==1), 'Fare'] = df.loc[df.Pclass==1, 'Fare'].median()\n",
    "df.loc[(df.Fare==0) & (df.Pclass==2), 'Fare'] = df.loc[df.Pclass==2, 'Fare'].median()\n",
    "df.loc[(df.Fare==0) & (df.Pclass==3), 'Fare'] = df.loc[df.Pclass==3, 'Fare'].median()\n",
    "#display(df.loc[:,['PassengerId', 'Embarked']].groupby('Embarked').agg('count').sort_values(by='Embarked'))\n",
    "#tmp=df[['Survived', 'agec', 'Sex', 'Pclass']].groupby(['agec', 'Sex', 'Pclass']).agg(['count', 'sum'])\n",
    "#tmp[('Survived', 'ps')] = tmp[('Survived', 'sum')] / tmp[('Survived', 'count')] * 100\n",
    "#display(tmp)"
   ]
  },
  {
   "cell_type": "code",
   "execution_count": 6,
   "metadata": {},
   "outputs": [],
   "source": [
    "dft.loc[df.isnull().Cabin, ['PassengerId', 'Cabin']] = 'No'\n",
    "dft['cabinc'] = df.Cabin.str[0]\n",
    "dft.loc[df.isnull().Embarked,'Embarked'] = 'U'\n",
    "dft['agec'] = 'noage'\n",
    "dft.loc[(dft.Age <= 3), 'agec'] = 'baby'\n",
    "dft.loc[(dft.Age <= 14) & (dft.Age > 3), 'agec'] = 'children'\n",
    "dft.loc[dft.Name.str.contains('Miss.*\"$') & dft.isnull().Age, 'agec'] = 'children'\n",
    "dft.loc[dft.Name.str.contains('Mr.*\"$') & dft.isnull().Age, 'agec'] = 'children'\n",
    "dft.loc[dft.Name.str.contains('Master') & dft.isnull().Age, 'agec'] = 'children'\n",
    "dft.loc[(dft.Age <= 45) & (dft.Age > 14), 'agec'] = 'young'\n",
    "dft.loc[dft.Name.str.contains('Miss') & (dft.agec == 'noage'), 'agec'] = 'young'\n",
    "dft.loc[(dft.agec=='noage') & ((dft.SibSp==1) & (dft.Parch==0)), 'agec'] = 'young'\n",
    "dft.loc[(dft.Age <= 60) & (dft.Age > 45), 'agec'] = 'middle'\n",
    "dft.loc[dft.Name.str.contains('Mrs') & (dft.agec == 'noage'), 'agec'] = 'middle'\n",
    "dft.loc[(dft.Age > 60), 'agec'] = 'old'\n",
    "dft.loc[dft.isnull().Fare, 'Fare'] = stats.mode(df.Fare).mode[0]\n",
    "#dft['ticketc'] = dft.loc[dft.Ticket.str.contains(pat='^[A-Z]'), 'Ticket'].str.split().str[1].str.strip()\n",
    "#dft.loc[dft.isnull().ticketc, 'ticketc'] = dft.loc[dft.isnull().ticketc, 'Ticket']\n",
    "#dft.ticketc = dft.ticketc.str[0]\n",
    "dft['fname'] = dft.Name.str.extract('^([^,]+)')[0].str.strip()\n",
    "dft['tname'] = dft.Name.str.extract(', ([^.]+)')[0].str.strip()\n"
   ]
  },
  {
   "cell_type": "code",
   "execution_count": 7,
   "metadata": {},
   "outputs": [],
   "source": [
    "y = df[\"Survived\"]\n",
    "\n",
    "features = [\"Pclass\", \"Sex\", \"SibSp\", \"Parch\", \"agec\", \"cabinc\", \"Embarked\", 'Ticket', 'fname', 'tname']\n",
    "X = pd.get_dummies(df[features])\n",
    "X_test = pd.get_dummies(dft[features])\n",
    "\n",
    "# Get missing columns in the training test\n",
    "missing_cols = set( X.columns ) - set( X_test.columns )\n",
    "# Add a missing column in test set with default value equal to 0\n",
    "for c in missing_cols:\n",
    "    X_test[c] = 0\n",
    "# Ensure the order of column in the test set is in the same order than in train set\n",
    "X_test = X_test[X.columns]\n",
    "\n",
    "X['Fare'] = df.Fare\n",
    "X_test['Fare'] = dft.Fare"
   ]
  },
  {
   "cell_type": "code",
   "execution_count": 8,
   "metadata": {},
   "outputs": [
    {
     "data": {
      "text/plain": [
       "0.9988776655443322"
      ]
     },
     "metadata": {},
     "output_type": "display_data"
    },
    {
     "data": {
      "text/plain": [
       "{'n_estimators': 100}"
      ]
     },
     "metadata": {},
     "output_type": "display_data"
    }
   ],
   "source": [
    "model = RandomForestClassifier(n_estimators=10, random_state=200560) #max_features=24, max_depth=16, \n",
    "\n",
    "n_ests=[10, 25, 50, 75, 100]\n",
    "#param_grid = {'n_estimators': [100, 150, 200], 'max_depth': [14, 15, 16], 'max_features': [24, 25, 26]}\n",
    "param_grid = {'n_estimators': n_ests}\n",
    "\n",
    "grid_model = GridSearchCV(model, param_grid, scoring='accuracy', return_train_score=True, cv=10)\n",
    "grid_model.fit(X, y)\n",
    "\n",
    "display(grid_model.best_estimator_.score(X,y))\n",
    "\n",
    "display(grid_model.best_params_)"
   ]
  },
  {
   "cell_type": "code",
   "execution_count": 9,
   "metadata": {},
   "outputs": [
    {
     "data": {
      "image/png": "[encoded data removed]",
      "text/plain": [
       "<Figure size 864x576 with 1 Axes>"
      ]
     },
     "metadata": {
      "needs_background": "light"
     },
     "output_type": "display_data"
    }
   ],
   "source": [
    "test_scores = grid_model.cv_results_['mean_test_score']\n",
    "test_error = grid_model.cv_results_['std_test_score'] \n",
    "train_scores = grid_model.cv_results_['mean_train_score']\n",
    "train_error = grid_model.cv_results_['std_train_score'] \n",
    "fig, ax = plt.subplots(figsize=(12,8))\n",
    "ax.errorbar(x=n_ests, y=train_scores, yerr=train_error, label='train')\n",
    "ax.errorbar(x=n_ests, y=test_scores, yerr=test_error, label='test')\n",
    "plt.legend()\n",
    "plt.grid(True)\n",
    "plt.show()"
   ]
  },
  {
   "cell_type": "code",
   "execution_count": 10,
   "metadata": {},
   "outputs": [
    {
     "name": "stdout",
     "output_type": "stream",
     "text": [
      "0.9988776655443322\n"
     ]
    }
   ],
   "source": [
    "RF_model = RandomForestClassifier(n_estimators=75, random_state=200560) #max_features=24, max_depth=16, \n",
    "\n",
    "RF_model.fit(X, y)\n",
    "\n",
    "RF_predictions = RF_model.predict(X_test)\n",
    "RF_probs = [x[1] for x in RF_model.predict_proba(X_test)]\n",
    "\n",
    "print(RF_model.score(X, y))\n",
    "#list(zip(probs,predictions))\n",
    "\n",
    "#output = pd.DataFrame({'PassengerId': dft.PassengerId, 'Survived': predictions})\n",
    "#output.to_csv('my_submission.csv', index=False)\n",
    "#print(\"Your submission was successfully saved!\")"
   ]
  },
  {
   "cell_type": "code",
   "execution_count": 11,
   "metadata": {},
   "outputs": [
    {
     "data": {
      "text/plain": [
       "0.9921436588103255"
      ]
     },
     "metadata": {},
     "output_type": "display_data"
    },
    {
     "data": {
      "text/plain": [
       "{'C': 500}"
      ]
     },
     "metadata": {},
     "output_type": "display_data"
    }
   ],
   "source": [
    "model = SVC(kernel = 'rbf', C=500, gamma='auto', random_state=200560)\n",
    "\n",
    "Cs=[2000, 1500, 1000, 500, 100, 50, 10, 1]\n",
    "Gammas=[1/400, 1/500, 1/600, 1/800, 1/1000]\n",
    "param_grid = {'C': Cs}\n",
    "#param_grid = {'gamma': Gammas}\n",
    "\n",
    "grid_model = GridSearchCV(model, param_grid, scoring='accuracy', cv=5, return_train_score=True)\n",
    "grid_model.fit(X, y)\n",
    "\n",
    "display(grid_model.best_estimator_.score(X,y))\n",
    "\n",
    "display(grid_model.best_params_)"
   ]
  },
  {
   "cell_type": "code",
   "execution_count": 12,
   "metadata": {},
   "outputs": [
    {
     "data": {
      "image/png": "[encoded data removed]",
      "text/plain": [
       "<Figure size 864x576 with 1 Axes>"
      ]
     },
     "metadata": {
      "needs_background": "light"
     },
     "output_type": "display_data"
    }
   ],
   "source": [
    "test_scores = grid_model.cv_results_['mean_test_score']\n",
    "test_error = grid_model.cv_results_['std_test_score'] \n",
    "train_scores = grid_model.cv_results_['mean_train_score']\n",
    "train_error = grid_model.cv_results_['std_train_score'] \n",
    "fig, ax = plt.subplots(figsize=(12,8))\n",
    "ax.errorbar(x=Cs, y=train_scores, yerr=train_error, label='train')\n",
    "ax.errorbar(x=Cs, y=test_scores, yerr=test_error, label='test')\n",
    "plt.legend()\n",
    "plt.grid(True)\n",
    "plt.show()"
   ]
  },
  {
   "cell_type": "code",
   "execution_count": 13,
   "metadata": {},
   "outputs": [
    {
     "data": {
      "text/plain": [
       "0.9921436588103255"
      ]
     },
     "metadata": {},
     "output_type": "display_data"
    }
   ],
   "source": [
    "SVC_model = SVC(kernel = 'rbf', C=500, gamma='auto', probability=True, random_state=200560)\n",
    "SVC_model.fit(X, y)\n",
    "SVC_predictions = SVC_model.predict(X_test)\n",
    "display(SVC_model.score(X, y))\n",
    "SVC_probs = [x[1] for x in SVC_model.predict_proba(X_test)]"
   ]
  },
  {
   "cell_type": "code",
   "execution_count": 14,
   "metadata": {},
   "outputs": [
    {
     "name": "stdout",
     "output_type": "stream",
     "text": [
      "Your submission was successfully saved!\n"
     ]
    }
   ],
   "source": [
    "predictions = (np.array(SVC_probs) * np.array(RF_probs) * 2 > 0.5).astype(int)\n",
    "output = pd.DataFrame({'PassengerId': dft.PassengerId, 'Survived': predictions}) \n",
    "output.to_csv('my_submission.csv', index=False) \n",
    "print(\"Your submission was successfully saved!\")"
   ]
  }
 ],
 "metadata": {
  "kernelspec": {
   "display_name": "Python 3",
   "language": "python",
   "name": "python3"
  },
  "language_info": {
   "codemirror_mode": {
    "name": "ipython",
    "version": 3
   },
   "file_extension": ".py",
   "mimetype": "text/x-python",
   "name": "python",
   "nbconvert_exporter": "python",
   "pygments_lexer": "ipython3",
   "version": "3.8.1"
  }
 },
 "nbformat": 4,
 "nbformat_minor": 4
}
